{
  "nbformat": 4,
  "nbformat_minor": 0,
  "metadata": {
    "colab": {
      "provenance": [],
      "authorship_tag": "ABX9TyMvHrrmV2lfaHs5D/6AIz59",
      "include_colab_link": true
    },
    "kernelspec": {
      "name": "python3",
      "display_name": "Python 3"
    },
    "language_info": {
      "name": "python"
    }
  },
  "cells": [
    {
      "cell_type": "markdown",
      "metadata": {
        "id": "view-in-github",
        "colab_type": "text"
      },
      "source": [
        "<a href=\"https://colab.research.google.com/github/jeramiah713/Complete-Python-3-Bootcamp/blob/master/ai_2.ipynb\" target=\"_parent\"><img src=\"https://colab.research.google.com/assets/colab-badge.svg\" alt=\"Open In Colab\"/></a>"
      ]
    },
    {
      "cell_type": "code",
      "execution_count": 1,
      "metadata": {
        "id": "9t0ol5e2NvbU"
      },
      "outputs": [],
      "source": [
        "#p(D)\n",
        "p_diabetes = 0.01\n"
      ]
    },
    {
      "cell_type": "code",
      "source": [
        "#p(`D)\n",
        "p_no_diabetes = 0.99\n"
      ],
      "metadata": {
        "id": "aYkU5uDuOvbn"
      },
      "execution_count": 2,
      "outputs": []
    },
    {
      "cell_type": "code",
      "source": [
        "# Sensitivity or p(pos|D)\n",
        "p_pos_diabetes = 0.9"
      ],
      "metadata": {
        "id": "74017kUpPCje"
      },
      "execution_count": 3,
      "outputs": []
    },
    {
      "cell_type": "code",
      "source": [
        "# Specificity or p(Neg/`D)\n",
        "p_neg_no_diabetes = 0.9\n"
      ],
      "metadata": {
        "id": "LdaMkqDjPLq2"
      },
      "execution_count": 8,
      "outputs": []
    },
    {
      "cell_type": "code",
      "source": [
        "#p(pos)\n",
        "p_pos = (p_diabetes *p_pos_diabetes) + (p_no_diabetes *(1-p_neg_no_diabetes))\n",
        "print('The probability of getting a positive test result p(pos) is: {}', format(p_pos))\n"
      ],
      "metadata": {
        "colab": {
          "base_uri": "https://localhost:8080/"
        },
        "id": "tIeqicrCPUiO",
        "outputId": "106126a0-e2f8-46e1-da1a-b75b70b8821b"
      },
      "execution_count": 9,
      "outputs": [
        {
          "output_type": "stream",
          "name": "stdout",
          "text": [
            "The probability of getting a positive test result p(pos) is: {} 0.10799999999999998\n"
          ]
        }
      ]
    },
    {
      "cell_type": "code",
      "source": [
        "# Using p(pos) we can calculate p(D|Pos)\n",
        "#p(D|Pos)\n",
        "p_diabetes_pos = (p_diabetes * p_pos_diabetes) / p_pos\n",
        "print('Probability of an individual having diabetes:given that individual got a positive test result is :', format(p_diabetes_pos))\n",
        "     "
      ],
      "metadata": {
        "colab": {
          "base_uri": "https://localhost:8080/"
        },
        "id": "8qAQB-CHPVjP",
        "outputId": "2c897ad4-7cfc-4dd9-d155-6e184cc10cc5"
      },
      "execution_count": 10,
      "outputs": [
        {
          "output_type": "stream",
          "name": "stdout",
          "text": [
            "Probability of an individual having diabetes:given that individual got a positive test result is : 0.08333333333333336\n"
          ]
        }
      ]
    }
  ]
}